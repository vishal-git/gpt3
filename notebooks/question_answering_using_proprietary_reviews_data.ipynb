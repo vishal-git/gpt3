{
 "cells": [
  {
   "cell_type": "markdown",
   "id": "7d11032b",
   "metadata": {},
   "source": [
    "### Read data"
   ]
  },
  {
   "cell_type": "code",
   "execution_count": 1,
   "id": "2d07e936",
   "metadata": {},
   "outputs": [
    {
     "data": {
      "text/html": [
       "<div>\n",
       "<style scoped>\n",
       "    .dataframe tbody tr th:only-of-type {\n",
       "        vertical-align: middle;\n",
       "    }\n",
       "\n",
       "    .dataframe tbody tr th {\n",
       "        vertical-align: top;\n",
       "    }\n",
       "\n",
       "    .dataframe thead th {\n",
       "        text-align: right;\n",
       "    }\n",
       "</style>\n",
       "<table border=\"1\" class=\"dataframe\">\n",
       "  <thead>\n",
       "    <tr style=\"text-align: right;\">\n",
       "      <th></th>\n",
       "      <th>Comment Date</th>\n",
       "      <th>Ratings</th>\n",
       "      <th>Version</th>\n",
       "      <th>Category</th>\n",
       "      <th>Emotion</th>\n",
       "      <th>Topics</th>\n",
       "      <th>Review</th>\n",
       "    </tr>\n",
       "  </thead>\n",
       "  <tbody>\n",
       "    <tr>\n",
       "      <th>0</th>\n",
       "      <td>2023/01/09</td>\n",
       "      <td>5</td>\n",
       "      <td>21.2.39</td>\n",
       "      <td>opinion</td>\n",
       "      <td>neutral</td>\n",
       "      <td>Bloatware</td>\n",
       "      <td>Trunoff Phone 📱 people Spam Google app</td>\n",
       "    </tr>\n",
       "    <tr>\n",
       "      <th>1</th>\n",
       "      <td>2023/01/09</td>\n",
       "      <td>5</td>\n",
       "      <td>22.8.62</td>\n",
       "      <td>reflect_rating</td>\n",
       "      <td>happy</td>\n",
       "      <td>NOT_APPLICABLE</td>\n",
       "      <td>Good app</td>\n",
       "    </tr>\n",
       "    <tr>\n",
       "      <th>2</th>\n",
       "      <td>2023/01/09</td>\n",
       "      <td>4</td>\n",
       "      <td>22.8.62</td>\n",
       "      <td>reflect_rating</td>\n",
       "      <td>happy</td>\n",
       "      <td>NOT_APPLICABLE</td>\n",
       "      <td>It's awesome</td>\n",
       "    </tr>\n",
       "    <tr>\n",
       "      <th>3</th>\n",
       "      <td>2023/01/09</td>\n",
       "      <td>5</td>\n",
       "      <td>21.12.75</td>\n",
       "      <td>reflect_rating</td>\n",
       "      <td>happy</td>\n",
       "      <td>NOT_APPLICABLE</td>\n",
       "      <td>Great</td>\n",
       "    </tr>\n",
       "    <tr>\n",
       "      <th>4</th>\n",
       "      <td>2023/01/08</td>\n",
       "      <td>1</td>\n",
       "      <td>20.12.40</td>\n",
       "      <td>opinion</td>\n",
       "      <td>satisfied</td>\n",
       "      <td>Cost</td>\n",
       "      <td>We REALLY think this AT&amp;T APP.. .., AT&amp;T HAS B...</td>\n",
       "    </tr>\n",
       "  </tbody>\n",
       "</table>\n",
       "</div>"
      ],
      "text/plain": [
       "  Comment Date  Ratings   Version        Category    Emotion          Topics  \\\n",
       "0   2023/01/09        5   21.2.39         opinion    neutral       Bloatware   \n",
       "1   2023/01/09        5   22.8.62  reflect_rating      happy  NOT_APPLICABLE   \n",
       "2   2023/01/09        4   22.8.62  reflect_rating      happy  NOT_APPLICABLE   \n",
       "3   2023/01/09        5  21.12.75  reflect_rating      happy  NOT_APPLICABLE   \n",
       "4   2023/01/08        1  20.12.40         opinion  satisfied            Cost   \n",
       "\n",
       "                                              Review  \n",
       "0             Trunoff Phone 📱 people Spam Google app  \n",
       "1                                           Good app  \n",
       "2                                       It's awesome  \n",
       "3                                              Great  \n",
       "4  We REALLY think this AT&T APP.. .., AT&T HAS B...  "
      ]
     },
     "execution_count": 1,
     "metadata": {},
     "output_type": "execute_result"
    }
   ],
   "source": [
    "import pandas as pd\n",
    "\n",
    "df = pd.read_csv('../data/att_android_reviews.csv')\n",
    "df.head()"
   ]
  },
  {
   "cell_type": "code",
   "execution_count": 2,
   "id": "9660f98a",
   "metadata": {},
   "outputs": [
    {
     "data": {
      "text/plain": [
       "opinion           57\n",
       "reflect_rating    51\n",
       "bug               32\n",
       "uncategorized      7\n",
       "Name: Category, dtype: int64"
      ]
     },
     "execution_count": 2,
     "metadata": {},
     "output_type": "execute_result"
    }
   ],
   "source": [
    "df.Category.value_counts()"
   ]
  },
  {
   "cell_type": "markdown",
   "id": "00236d59",
   "metadata": {},
   "source": [
    "### Clean data"
   ]
  },
  {
   "cell_type": "code",
   "execution_count": 21,
   "id": "cbc0bb9d",
   "metadata": {},
   "outputs": [
    {
     "data": {
      "text/plain": [
       "(118, 8)"
      ]
     },
     "execution_count": 21,
     "metadata": {},
     "output_type": "execute_result"
    }
   ],
   "source": [
    "df['Review'] = df['Review'].str.replace('\"', '')\n",
    "\n",
    "df = df[df['Category'] != 'uncategorized']\n",
    "\n",
    "df = df[~df['Review'].isin(['i6k kill in mm6 2nd I k', 'Cec3 0 12th 0', \"7t5y it'sy8 x uh 21o\", \n",
    "                              \"y imau s zSaaaaj I'mamigration uuuuuu qdddsftxt x, xcfrreey\"])]\n",
    "\n",
    "df = df[~pd.isnull(df['Version'])]\n",
    "df.shape"
   ]
  },
  {
   "cell_type": "markdown",
   "id": "e805a758",
   "metadata": {},
   "source": [
    "Let's convert this data into text blurbs."
   ]
  },
  {
   "cell_type": "code",
   "execution_count": 22,
   "id": "a7e2d25e",
   "metadata": {},
   "outputs": [
    {
     "data": {
      "text/html": [
       "<div>\n",
       "<style scoped>\n",
       "    .dataframe tbody tr th:only-of-type {\n",
       "        vertical-align: middle;\n",
       "    }\n",
       "\n",
       "    .dataframe tbody tr th {\n",
       "        vertical-align: top;\n",
       "    }\n",
       "\n",
       "    .dataframe thead th {\n",
       "        text-align: right;\n",
       "    }\n",
       "</style>\n",
       "<table border=\"1\" class=\"dataframe\">\n",
       "  <thead>\n",
       "    <tr style=\"text-align: right;\">\n",
       "      <th></th>\n",
       "      <th>Comment Date</th>\n",
       "      <th>Ratings</th>\n",
       "      <th>Version</th>\n",
       "      <th>Category</th>\n",
       "      <th>Emotion</th>\n",
       "      <th>Topics</th>\n",
       "      <th>Review</th>\n",
       "      <th>user_text</th>\n",
       "    </tr>\n",
       "  </thead>\n",
       "  <tbody>\n",
       "    <tr>\n",
       "      <th>0</th>\n",
       "      <td>2023/01/09</td>\n",
       "      <td>5</td>\n",
       "      <td>21.2.39</td>\n",
       "      <td>opinion</td>\n",
       "      <td>neutral</td>\n",
       "      <td>Bloatware</td>\n",
       "      <td>Trunoff Phone 📱 people Spam Google app</td>\n",
       "      <td>A user provided a 5 start review for app versi...</td>\n",
       "    </tr>\n",
       "    <tr>\n",
       "      <th>1</th>\n",
       "      <td>2023/01/09</td>\n",
       "      <td>5</td>\n",
       "      <td>22.8.62</td>\n",
       "      <td>reflect_rating</td>\n",
       "      <td>happy</td>\n",
       "      <td>NOT_APPLICABLE</td>\n",
       "      <td>Good app</td>\n",
       "      <td>A user provided a 5 start review for app versi...</td>\n",
       "    </tr>\n",
       "    <tr>\n",
       "      <th>2</th>\n",
       "      <td>2023/01/09</td>\n",
       "      <td>4</td>\n",
       "      <td>22.8.62</td>\n",
       "      <td>reflect_rating</td>\n",
       "      <td>happy</td>\n",
       "      <td>NOT_APPLICABLE</td>\n",
       "      <td>It's awesome</td>\n",
       "      <td>A user provided a 4 start review for app versi...</td>\n",
       "    </tr>\n",
       "    <tr>\n",
       "      <th>3</th>\n",
       "      <td>2023/01/09</td>\n",
       "      <td>5</td>\n",
       "      <td>21.12.75</td>\n",
       "      <td>reflect_rating</td>\n",
       "      <td>happy</td>\n",
       "      <td>NOT_APPLICABLE</td>\n",
       "      <td>Great</td>\n",
       "      <td>A user provided a 5 start review for app versi...</td>\n",
       "    </tr>\n",
       "    <tr>\n",
       "      <th>4</th>\n",
       "      <td>2023/01/08</td>\n",
       "      <td>1</td>\n",
       "      <td>20.12.40</td>\n",
       "      <td>opinion</td>\n",
       "      <td>satisfied</td>\n",
       "      <td>Cost</td>\n",
       "      <td>We REALLY think this AT&amp;T APP.. .., AT&amp;T HAS B...</td>\n",
       "      <td>A user provided a 1 start review for app versi...</td>\n",
       "    </tr>\n",
       "  </tbody>\n",
       "</table>\n",
       "</div>"
      ],
      "text/plain": [
       "  Comment Date  Ratings   Version        Category    Emotion          Topics  \\\n",
       "0   2023/01/09        5   21.2.39         opinion    neutral       Bloatware   \n",
       "1   2023/01/09        5   22.8.62  reflect_rating      happy  NOT_APPLICABLE   \n",
       "2   2023/01/09        4   22.8.62  reflect_rating      happy  NOT_APPLICABLE   \n",
       "3   2023/01/09        5  21.12.75  reflect_rating      happy  NOT_APPLICABLE   \n",
       "4   2023/01/08        1  20.12.40         opinion  satisfied            Cost   \n",
       "\n",
       "                                              Review  \\\n",
       "0             Trunoff Phone 📱 people Spam Google app   \n",
       "1                                           Good app   \n",
       "2                                       It's awesome   \n",
       "3                                              Great   \n",
       "4  We REALLY think this AT&T APP.. .., AT&T HAS B...   \n",
       "\n",
       "                                           user_text  \n",
       "0  A user provided a 5 start review for app versi...  \n",
       "1  A user provided a 5 start review for app versi...  \n",
       "2  A user provided a 4 start review for app versi...  \n",
       "3  A user provided a 5 start review for app versi...  \n",
       "4  A user provided a 1 start review for app versi...  "
      ]
     },
     "execution_count": 22,
     "metadata": {},
     "output_type": "execute_result"
    }
   ],
   "source": [
    "def consolidate_user_feedback(r):\n",
    "    user_text = f'A user provided a {r.Ratings} start review for app version {r.Version}. '\n",
    "    if r.Category == 'opinion':\n",
    "        user_text += f\"Ther user gave the following opinion about {r.Topics}: '{r.Review}'. \"\n",
    "    elif r.Category == 'bug':\n",
    "        user_text += f\"The user reported a bug about {r.Topics}: '{r.Review}'.\"\n",
    "    elif r.Category == 'reflect_rating':\n",
    "        user_text += f\"The user provided the following comment about the app: '{r.Review}'. \"\n",
    "    return user_text + f\"Overall, the user is {r.Emotion} with the app.\"\n",
    "\n",
    "df['user_text'] = df.apply(consolidate_user_feedback, axis=1)\n",
    "df.head()"
   ]
  },
  {
   "cell_type": "code",
   "execution_count": 24,
   "id": "c78d1a7e",
   "metadata": {},
   "outputs": [
    {
     "data": {
      "text/plain": [
       "\"A user provided a 5 start review for app version 22.8.62. Ther user gave the following opinion about Service: 'Great Customer Service, Just taking care of the little quirks!'. Overall, the user is happy with the app.\""
      ]
     },
     "execution_count": 24,
     "metadata": {},
     "output_type": "execute_result"
    }
   ],
   "source": [
    "df.iloc[10]['user_text']"
   ]
  },
  {
   "cell_type": "code",
   "execution_count": null,
   "id": "b79dc199",
   "metadata": {},
   "outputs": [],
   "source": [
    "# grab all reviews data into one variable\n",
    "user_text_all = [' \\n'.join(df['user_text'].values.tolist())]"
   ]
  },
  {
   "cell_type": "code",
   "execution_count": 32,
   "id": "c3ef36cb",
   "metadata": {},
   "outputs": [
    {
     "data": {
      "text/plain": [
       "25555"
      ]
     },
     "execution_count": 32,
     "metadata": {},
     "output_type": "execute_result"
    }
   ],
   "source": [
    "len(user_text_all[0])"
   ]
  },
  {
   "cell_type": "markdown",
   "id": "57aeabaf",
   "metadata": {},
   "source": [
    "We will use this text as the context for our questions."
   ]
  },
  {
   "cell_type": "markdown",
   "id": "963a7e56",
   "metadata": {},
   "source": [
    "### OpenAI setup"
   ]
  },
  {
   "cell_type": "code",
   "execution_count": 28,
   "id": "ee98b7c1",
   "metadata": {},
   "outputs": [],
   "source": [
    "from dotenv import load_dotenv\n",
    "from pathlib import Path\n",
    "import os\n",
    "import openai\n",
    "COMPLETIONS_MODEL = 'text-davinci-003'\n",
    "\n",
    "env_path = Path('..')/'.env'\n",
    "load_dotenv(dotenv_path=env_path)\n",
    "\n",
    "openai.api_key = os.getenv('OPENAI_API_KEY')"
   ]
  },
  {
   "cell_type": "markdown",
   "id": "2ac44d54",
   "metadata": {},
   "source": [
    "Note: Since this reviews data is not too large, we will use the first 12,000 characters from it for demonstration purposes. If your corpus is large, then you need to follow the approach outlined in `question_answering_using_proprietary_data.ipynb` notebook."
   ]
  },
  {
   "cell_type": "markdown",
   "id": "ea8fe9db",
   "metadata": {},
   "source": [
    "### Question Answering"
   ]
  },
  {
   "cell_type": "code",
   "execution_count": 35,
   "id": "3fdcb819",
   "metadata": {},
   "outputs": [
    {
     "data": {
      "text/plain": [
       "'Bugs, not being able to log in, not being able to back up into folders, and hack phone.'"
      ]
     },
     "execution_count": 35,
     "metadata": {},
     "output_type": "execute_result"
    }
   ],
   "source": [
    "prompt = f\"\"\"Answer the question as truthfully as possible using the provided text, and if the answer is not contained within the text below, say \"I don't know\"\n",
    "\n",
    "Context:\n",
    "{user_text_all[0][:12000]}\n",
    "\n",
    "Q: What are the users most frustrated about?\n",
    "A:\"\"\"\n",
    "\n",
    "openai.Completion.create(\n",
    "    prompt=prompt,\n",
    "    temperature=0,\n",
    "    max_tokens=300,\n",
    "    top_p=1,\n",
    "    frequency_penalty=0,\n",
    "    presence_penalty=0,\n",
    "    model=COMPLETIONS_MODEL\n",
    ")[\"choices\"][0][\"text\"].strip(\" \\n\")"
   ]
  },
  {
   "cell_type": "code",
   "execution_count": 36,
   "id": "1382d907",
   "metadata": {},
   "outputs": [
    {
     "data": {
      "text/plain": [
       "\"The users are most happy about the app's service, cost, other features, and ease of use.\""
      ]
     },
     "execution_count": 36,
     "metadata": {},
     "output_type": "execute_result"
    }
   ],
   "source": [
    "prompt = f\"\"\"Answer the question as truthfully as possible using the provided text, and if the answer is not contained within the text below, say \"I don't know\"\n",
    "\n",
    "Context:\n",
    "{user_text_all[0][:12000]}\n",
    "\n",
    "Q: What are the users most happy about?\n",
    "A:\"\"\"\n",
    "\n",
    "openai.Completion.create(\n",
    "    prompt=prompt,\n",
    "    temperature=0,\n",
    "    max_tokens=300,\n",
    "    top_p=1,\n",
    "    frequency_penalty=0,\n",
    "    presence_penalty=0,\n",
    "    model=COMPLETIONS_MODEL\n",
    ")[\"choices\"][0][\"text\"].strip(\" \\n\")"
   ]
  },
  {
   "cell_type": "code",
   "execution_count": 37,
   "id": "4692cc1d",
   "metadata": {},
   "outputs": [
    {
     "data": {
      "text/plain": [
       "'Most users are happy with the app.'"
      ]
     },
     "execution_count": 37,
     "metadata": {},
     "output_type": "execute_result"
    }
   ],
   "source": [
    "prompt = f\"\"\"Answer the question as truthfully as possible using the provided text, and if the answer is not contained within the text below, say \"I don't know\"\n",
    "\n",
    "Context:\n",
    "{user_text_all[0][:12000]}\n",
    "\n",
    "Q: What is the general opinion about the app from users?\n",
    "A:\"\"\"\n",
    "\n",
    "openai.Completion.create(\n",
    "    prompt=prompt,\n",
    "    temperature=0,\n",
    "    max_tokens=300,\n",
    "    top_p=1,\n",
    "    frequency_penalty=0,\n",
    "    presence_penalty=0,\n",
    "    model=COMPLETIONS_MODEL\n",
    ")[\"choices\"][0][\"text\"].strip(\" \\n\")"
   ]
  },
  {
   "cell_type": "code",
   "execution_count": 38,
   "id": "960c3331",
   "metadata": {},
   "outputs": [
    {
     "data": {
      "text/plain": [
       "'1 star'"
      ]
     },
     "execution_count": 38,
     "metadata": {},
     "output_type": "execute_result"
    }
   ],
   "source": [
    "prompt = f\"\"\"Answer the question as truthfully as possible using the provided text, and if the answer is not contained within the text below, say \"I don't know\"\n",
    "\n",
    "Context:\n",
    "{user_text_all[0][:12000]}\n",
    "\n",
    "Q: What is the average rating from the users who are frustrated with the app?\n",
    "A:\"\"\"\n",
    "\n",
    "openai.Completion.create(\n",
    "    prompt=prompt,\n",
    "    temperature=0,\n",
    "    max_tokens=300,\n",
    "    top_p=1,\n",
    "    frequency_penalty=0,\n",
    "    presence_penalty=0,\n",
    "    model=COMPLETIONS_MODEL\n",
    ")[\"choices\"][0][\"text\"].strip(\" \\n\")"
   ]
  },
  {
   "cell_type": "code",
   "execution_count": 39,
   "id": "67cbb52b",
   "metadata": {},
   "outputs": [
    {
     "data": {
      "text/plain": [
       "'Service'"
      ]
     },
     "execution_count": 39,
     "metadata": {},
     "output_type": "execute_result"
    }
   ],
   "source": [
    "prompt = f\"\"\"Answer the question as truthfully as possible using the provided text, and if the answer is not contained within the text below, say \"I don't know\"\n",
    "\n",
    "Context:\n",
    "{user_text_all[0][:12000]}\n",
    "\n",
    "Q: What is the most common topic the users are commenting about?\n",
    "A:\"\"\"\n",
    "\n",
    "openai.Completion.create(\n",
    "    prompt=prompt,\n",
    "    temperature=0,\n",
    "    max_tokens=300,\n",
    "    top_p=1,\n",
    "    frequency_penalty=0,\n",
    "    presence_penalty=0,\n",
    "    model=COMPLETIONS_MODEL\n",
    ")[\"choices\"][0][\"text\"].strip(\" \\n\")"
   ]
  },
  {
   "cell_type": "code",
   "execution_count": 40,
   "id": "aba80761",
   "metadata": {},
   "outputs": [
    {
     "data": {
      "text/plain": [
       "\"I don't know.\""
      ]
     },
     "execution_count": 40,
     "metadata": {},
     "output_type": "execute_result"
    }
   ],
   "source": [
    "prompt = f\"\"\"Answer the question as truthfully as possible using the provided text, and if the answer is not contained within the text below, say \"I don't know\"\n",
    "\n",
    "Context:\n",
    "{user_text_all[0][:12000]}\n",
    "\n",
    "Q: What is the average rating among the users who are commenting about Serive?\n",
    "A:\"\"\"\n",
    "\n",
    "openai.Completion.create(\n",
    "    prompt=prompt,\n",
    "    temperature=0,\n",
    "    max_tokens=300,\n",
    "    top_p=1,\n",
    "    frequency_penalty=0,\n",
    "    presence_penalty=0,\n",
    "    model=COMPLETIONS_MODEL\n",
    ")[\"choices\"][0][\"text\"].strip(\" \\n\")"
   ]
  },
  {
   "cell_type": "code",
   "execution_count": 41,
   "id": "aa3bb70c",
   "metadata": {},
   "outputs": [
    {
     "data": {
      "text/plain": [
       "'Yes, the users who are commenting about Service are happy.'"
      ]
     },
     "execution_count": 41,
     "metadata": {},
     "output_type": "execute_result"
    }
   ],
   "source": [
    "prompt = f\"\"\"Answer the question as truthfully as possible using the provided text, and if the answer is not contained within the text below, say \"I don't know\"\n",
    "\n",
    "Context:\n",
    "{user_text_all[0][:12000]}\n",
    "\n",
    "Q: Are the users who are commenting about Serive happy?\n",
    "A:\"\"\"\n",
    "\n",
    "openai.Completion.create(\n",
    "    prompt=prompt,\n",
    "    temperature=0,\n",
    "    max_tokens=300,\n",
    "    top_p=1,\n",
    "    frequency_penalty=0,\n",
    "    presence_penalty=0,\n",
    "    model=COMPLETIONS_MODEL\n",
    ")[\"choices\"][0][\"text\"].strip(\" \\n\")"
   ]
  },
  {
   "cell_type": "markdown",
   "id": "4add9bf4",
   "metadata": {},
   "source": [
    "This demonstrates how we can use some proprietary text data with GPT-3 to get answers that it otherwise wouldn't know."
   ]
  }
 ],
 "metadata": {
  "kernelspec": {
   "display_name": "Python 3 (ipykernel)",
   "language": "python",
   "name": "python3"
  },
  "language_info": {
   "codemirror_mode": {
    "name": "ipython",
    "version": 3
   },
   "file_extension": ".py",
   "mimetype": "text/x-python",
   "name": "python",
   "nbconvert_exporter": "python",
   "pygments_lexer": "ipython3",
   "version": "3.8.10"
  }
 },
 "nbformat": 4,
 "nbformat_minor": 5
}
